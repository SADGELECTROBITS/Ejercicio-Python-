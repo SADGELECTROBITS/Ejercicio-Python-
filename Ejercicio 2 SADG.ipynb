{
 "cells": [
  {
   "attachments": {},
   "cell_type": "markdown",
   "metadata": {},
   "source": [
    "Este codigo fue desarrollado por Oscar Pérez, tutor de EBAC.\n",
    "Te invito a seguirme en instagram @Oscaruph"
   ]
  },
  {
   "cell_type": "code",
   "execution_count": null,
   "metadata": {},
   "outputs": [],
   "source": [
    "import nltk\n",
    "from nltk.tokenize import word_tokenize, sent_tokenize\n",
    "from nltk.tag import pos_tag\n",
    "from nltk.chunk import ne_chunk\n",
    "from nltk.corpus import stopwords"
   ]
  },
  {
   "cell_type": "code",
   "execution_count": null,
   "metadata": {},
   "outputs": [],
   "source": [
    "def process_text(text):\n",
    "    \n",
    "    # Tokenización de oraciones\n",
    "    sentences = sent_tokenize(text)\n",
    "    print(\"Oraciones:\", sentences)\n",
    "\n",
    "    # Tokenización de palabras\n",
    "    tokens = word_tokenize(text)\n",
    "    print(\"Tokens:\", tokens)\n",
    "\n",
    "    # Etiquetado gramatical\n",
    "    tagged = pos_tag(tokens)\n",
    "    print(\"Etiquetas gramaticales:\", tagged)\n",
    "\n",
    "    # Reconocimiento de entidades nombradas\n",
    "    named_entities = ne_chunk(tagged)\n",
    "    print(\"Entidades nombradas:\", named_entities)\n",
    "\n",
    "    # Eliminación de palabras vacías (stop words)\n",
    "    stop_words = set(stopwords.words('english'))\n",
    "    filtered_words = [token for token in tokens if token.lower() not in stop_words]\n",
    "    print(\"Palabras filtradas:\", filtered_words)\n",
    "\n",
    "#ejemplo de lectura contenido TXT y asignación a la variable\n",
    "loc_texto = \"C:/Users/saul_/Descargas/Prueba.txt\" #Ubicación del archivo\n",
    "with open('Prueba','r') as archivo: #Nombramiento del archivo leído\n",
    "    texto_ejemplo = archivo.read()  #Dar valor de la variable de acuerdo a o leído en el TXT\n",
    "print (texto_ejemplo)               #Imprimir el valor de la variable\n",
    "\n",
    "# Procesar el texto\n",
    "process_text(texto_ejemplo)"
   ]
  }
 ],
 "metadata": {
  "kernelspec": {
   "display_name": "base",
   "language": "python",
   "name": "python3"
  },
  "language_info": {
   "codemirror_mode": {
    "name": "ipython",
    "version": 3
   },
   "file_extension": ".py",
   "mimetype": "text/x-python",
   "name": "python",
   "nbconvert_exporter": "python",
   "pygments_lexer": "ipython3",
   "version": "3.11.3"
  },
  "orig_nbformat": 4
 },
 "nbformat": 4,
 "nbformat_minor": 2
}
