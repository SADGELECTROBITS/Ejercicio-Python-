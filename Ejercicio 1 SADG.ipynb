{
 "cells": [
  {
   "attachments": {},
   "cell_type": "markdown",
   "metadata": {},
   "source": [
    "Este codigo fue desarrollado por Oscar Pérez, tutor de EBAC.\n",
    "Te invito a seguirme en instagram @Oscaruph"
   ]
  },
  {
   "attachments": {},
   "cell_type": "markdown",
   "metadata": {},
   "source": [
    "Este código muestra ejemplos básicos de variables y tipos de datos, como cadenas de texto, enteros, flotantes y booleanos. También se ejemplifican estructuras de control como condicionales (if-else) y bucles (while y for). Además, se muestra cómo definir y utilizar funciones en Python, y cómo importar y utilizar módulos, en este caso, el módulo math para calcular la raíz cuadrada."
   ]
  },
  {
   "cell_type": "code",
   "execution_count": 8,
   "metadata": {},
   "outputs": [
    {
     "name": "stdout",
     "output_type": "stream",
     "text": [
      "Mi nombre es asddf\n",
      "Tengo 16 años\n",
      "Mi altura es 1.86 metros\n",
      "¿Soy estudiante? si\n",
      "Soy menor de edad\n",
      "El contador es 0\n",
      "El contador es 1\n",
      "El contador es 2\n",
      "El contador es 3\n",
      "El contador es 4\n",
      "Me gusta comer manzana\n",
      "Su fruta favorita es pera\n",
      "Me gusta comer banana\n",
      "Su fruta favorita es pera\n",
      "Me gusta comer cereza\n",
      "Su fruta favorita es pera\n",
      "El área del rectángulo es: 24\n",
      "El área del rectángulo es: 276\n",
      "La raíz cuadrada de su número es: 13.638181696985855\n"
     ]
    }
   ],
   "source": [
    "# Variables y tipos de datos\n",
    "\n",
    "# Asignación de valores a variables\n",
    "nombre = input(\"Ingresa el nombre\") #con la función input se puede agregar el nombre propio\n",
    "edad = int(input(\"Ingresa la edad\"))  #Al utilizar \"Int\" antes de la función input podemos ingresar la edad que es una variable de tipo entero\n",
    "altura = float(input(\"Ingrese la altura\")) #Al utilizar \"float\" antes de la función input podemos ingresar la altura que es una variable de tipo flotante\n",
    "es_estudiante = input(\"¿Es usted estudiante?\")\n",
    "\n",
    "# Imprimir el contenido de las variables\n",
    "print(\"Mi nombre es\", nombre)\n",
    "print(\"Tengo\", edad, \"años\")\n",
    "print(\"Mi altura es\", altura, \"metros\")\n",
    "print(\"¿Soy estudiante?\", es_estudiante)\n",
    "\n",
    "# Estructuras de control: condicionales\n",
    "\n",
    "if edad >= 18:  # Si la edad es mayor o igual a 18\n",
    "    print(\"Soy mayor de edad\")\n",
    "else:\n",
    "    print(\"Soy menor de edad\")\n",
    "\n",
    "# Estructuras de control: bucles\n",
    "\n",
    "# Bucle while\n",
    "contador = 0\n",
    "while contador < 5:\n",
    "    print(\"El contador es\", contador)\n",
    "    contador += 1\n",
    "\n",
    "# Bucle for\n",
    "frutas = [\"manzana\", \"banana\", \"cereza\"]\n",
    "frutafav = input(\"Ingrese su fruta favorita\")\n",
    "for fruta in frutas:\n",
    "    print(\"Me gusta comer\", fruta)\n",
    "    print(\"Su fruta favorita es\", frutafav)\n",
    "    \n",
    "    #Agregué un pequeño código para preguntarle al cliente sobre su fruta favorita\n",
    "    \n",
    "\n",
    "# Funciones\n",
    "\n",
    "# Definición de una función\n",
    "def calcular_area_rectangulo(base, altura):\n",
    "    area = base * altura\n",
    "    return area\n",
    "\n",
    "# Llamada a la función\n",
    "base_rectangulo = 4\n",
    "altura_rectangulo = 6\n",
    "area_rectangulo = calcular_area_rectangulo(base_rectangulo, altura_rectangulo)\n",
    "print(\"El área del rectángulo es:\", area_rectangulo)\n",
    "A= int(input(\"Ingrese el valor de base de su rectángulo\"))\n",
    "B= int(input(\"Ingrese el valor de altura de su rectángulo\"))\n",
    "\n",
    "#En este caso ambos datos del rectángulo son variables de tipo entero\n",
    "#por lo que se utiliza int(input())\n",
    "\n",
    "Area2 = calcular_area_rectangulo(A, B)\n",
    "print(\"El área del rectángulo es:\", Area2)\n",
    "\n",
    "# Módulos\n",
    "\n",
    "# Importar el módulo math\n",
    "import math\n",
    "\n",
    "# Utilizar una función del módulo math\n",
    "Número = int(input(\"Ingrese el número al que desee calcular su raiz cuadrada\"))\n",
    "#Esto servirá para poder calcular cualquier número entero que el cliente quiera calcular su raíz cuadrada\n",
    "raiz_cuadrada = math.sqrt(Número)\n",
    "print(\"La raíz cuadrada de su número es:\", raiz_cuadrada)\n"
   ]
  }
 ],
 "metadata": {
  "kernelspec": {
   "display_name": "base",
   "language": "python",
   "name": "python3"
  },
  "language_info": {
   "codemirror_mode": {
    "name": "ipython",
    "version": 3
   },
   "file_extension": ".py",
   "mimetype": "text/x-python",
   "name": "python",
   "nbconvert_exporter": "python",
   "pygments_lexer": "ipython3",
   "version": "3.11.3"
  },
  "orig_nbformat": 4
 },
 "nbformat": 4,
 "nbformat_minor": 2
}
